{
  "cells": [
    {
      "cell_type": "markdown",
      "metadata": {
        "id": "cP5zh7Ww85Fm"
      },
      "source": [
        "# Proyek Analisis Data: Bike Sharing Dataset\n",
        "- Nama: Afrizal Rizqi Syahputra\n",
        "- Email: afrizalrizqi02@gmail.com\n",
        "- Id Dicoding:"
      ]
    },
    {
      "cell_type": "markdown",
      "metadata": {
        "id": "ggwOFmpI88dG"
      },
      "source": [
        "## Menentukan Pertanyaan Bisnis"
      ]
    },
    {
      "cell_type": "markdown",
      "metadata": {
        "id": "6irqmTtg8-IC"
      },
      "source": [
        "- pertanyaan 1 : Pada cuaca apa yang paling banyak dan paling sedikit pengguna?\n",
        "- pertanyaan 2 : Bagaimana perbedaan penggunaan sepeda antara pengguna terdaftar dan pengguna biasa?"
      ]
    },
    {
      "cell_type": "markdown",
      "metadata": {
        "id": "EueHsNk89AsY"
      },
      "source": [
        "## Menyaipkan semua library yang dibuthkan"
      ]
    },
    {
      "cell_type": "code",
      "execution_count": 1,
      "metadata": {
        "id": "4cmWv4qc8xWu"
      },
      "outputs": [],
      "source": [
        "import numpy as np\n",
        "import pandas as pd\n",
        "import matplotlib.pyplot as plt\n",
        "import seaborn as sns"
      ]
    },
    {
      "cell_type": "markdown",
      "metadata": {
        "id": "7DwSpkkZ9BqV"
      },
      "source": [
        "## Data Wrangling"
      ]
    },
    {
      "cell_type": "markdown",
      "metadata": {
        "id": "ZuJuLGxe9D9O"
      },
      "source": [
        "### Gathering Data"
      ]
    },
    {
      "cell_type": "code",
      "execution_count": 2,
      "metadata": {
        "colab": {
          "base_uri": "https://localhost:8080/",
          "height": 206
        },
        "id": "Rg3wtvOr9DUm",
        "outputId": "2b7d31ee-3870-489d-bfeb-dcbb58a6b177"
      },
      "outputs": [
        {
          "data": {
            "text/html": [
              "<div>\n",
              "<style scoped>\n",
              "    .dataframe tbody tr th:only-of-type {\n",
              "        vertical-align: middle;\n",
              "    }\n",
              "\n",
              "    .dataframe tbody tr th {\n",
              "        vertical-align: top;\n",
              "    }\n",
              "\n",
              "    .dataframe thead th {\n",
              "        text-align: right;\n",
              "    }\n",
              "</style>\n",
              "<table border=\"1\" class=\"dataframe\">\n",
              "  <thead>\n",
              "    <tr style=\"text-align: right;\">\n",
              "      <th></th>\n",
              "      <th>instant</th>\n",
              "      <th>dteday</th>\n",
              "      <th>season</th>\n",
              "      <th>yr</th>\n",
              "      <th>mnth</th>\n",
              "      <th>holiday</th>\n",
              "      <th>weekday</th>\n",
              "      <th>workingday</th>\n",
              "      <th>weathersit</th>\n",
              "      <th>temp</th>\n",
              "      <th>atemp</th>\n",
              "      <th>hum</th>\n",
              "      <th>windspeed</th>\n",
              "      <th>casual</th>\n",
              "      <th>registered</th>\n",
              "      <th>cnt</th>\n",
              "    </tr>\n",
              "  </thead>\n",
              "  <tbody>\n",
              "    <tr>\n",
              "      <th>0</th>\n",
              "      <td>1</td>\n",
              "      <td>2011-01-01</td>\n",
              "      <td>1</td>\n",
              "      <td>0</td>\n",
              "      <td>1</td>\n",
              "      <td>0</td>\n",
              "      <td>6</td>\n",
              "      <td>0</td>\n",
              "      <td>2</td>\n",
              "      <td>0.344167</td>\n",
              "      <td>0.363625</td>\n",
              "      <td>0.805833</td>\n",
              "      <td>0.160446</td>\n",
              "      <td>331</td>\n",
              "      <td>654</td>\n",
              "      <td>985</td>\n",
              "    </tr>\n",
              "    <tr>\n",
              "      <th>1</th>\n",
              "      <td>2</td>\n",
              "      <td>2011-01-02</td>\n",
              "      <td>1</td>\n",
              "      <td>0</td>\n",
              "      <td>1</td>\n",
              "      <td>0</td>\n",
              "      <td>0</td>\n",
              "      <td>0</td>\n",
              "      <td>2</td>\n",
              "      <td>0.363478</td>\n",
              "      <td>0.353739</td>\n",
              "      <td>0.696087</td>\n",
              "      <td>0.248539</td>\n",
              "      <td>131</td>\n",
              "      <td>670</td>\n",
              "      <td>801</td>\n",
              "    </tr>\n",
              "    <tr>\n",
              "      <th>2</th>\n",
              "      <td>3</td>\n",
              "      <td>2011-01-03</td>\n",
              "      <td>1</td>\n",
              "      <td>0</td>\n",
              "      <td>1</td>\n",
              "      <td>0</td>\n",
              "      <td>1</td>\n",
              "      <td>1</td>\n",
              "      <td>1</td>\n",
              "      <td>0.196364</td>\n",
              "      <td>0.189405</td>\n",
              "      <td>0.437273</td>\n",
              "      <td>0.248309</td>\n",
              "      <td>120</td>\n",
              "      <td>1229</td>\n",
              "      <td>1349</td>\n",
              "    </tr>\n",
              "    <tr>\n",
              "      <th>3</th>\n",
              "      <td>4</td>\n",
              "      <td>2011-01-04</td>\n",
              "      <td>1</td>\n",
              "      <td>0</td>\n",
              "      <td>1</td>\n",
              "      <td>0</td>\n",
              "      <td>2</td>\n",
              "      <td>1</td>\n",
              "      <td>1</td>\n",
              "      <td>0.200000</td>\n",
              "      <td>0.212122</td>\n",
              "      <td>0.590435</td>\n",
              "      <td>0.160296</td>\n",
              "      <td>108</td>\n",
              "      <td>1454</td>\n",
              "      <td>1562</td>\n",
              "    </tr>\n",
              "    <tr>\n",
              "      <th>4</th>\n",
              "      <td>5</td>\n",
              "      <td>2011-01-05</td>\n",
              "      <td>1</td>\n",
              "      <td>0</td>\n",
              "      <td>1</td>\n",
              "      <td>0</td>\n",
              "      <td>3</td>\n",
              "      <td>1</td>\n",
              "      <td>1</td>\n",
              "      <td>0.226957</td>\n",
              "      <td>0.229270</td>\n",
              "      <td>0.436957</td>\n",
              "      <td>0.186900</td>\n",
              "      <td>82</td>\n",
              "      <td>1518</td>\n",
              "      <td>1600</td>\n",
              "    </tr>\n",
              "  </tbody>\n",
              "</table>\n",
              "</div>"
            ],
            "text/plain": [
              "   instant      dteday  season  yr  mnth  holiday  weekday  workingday  \\\n",
              "0        1  2011-01-01       1   0     1        0        6           0   \n",
              "1        2  2011-01-02       1   0     1        0        0           0   \n",
              "2        3  2011-01-03       1   0     1        0        1           1   \n",
              "3        4  2011-01-04       1   0     1        0        2           1   \n",
              "4        5  2011-01-05       1   0     1        0        3           1   \n",
              "\n",
              "   weathersit      temp     atemp       hum  windspeed  casual  registered  \\\n",
              "0           2  0.344167  0.363625  0.805833   0.160446     331         654   \n",
              "1           2  0.363478  0.353739  0.696087   0.248539     131         670   \n",
              "2           1  0.196364  0.189405  0.437273   0.248309     120        1229   \n",
              "3           1  0.200000  0.212122  0.590435   0.160296     108        1454   \n",
              "4           1  0.226957  0.229270  0.436957   0.186900      82        1518   \n",
              "\n",
              "    cnt  \n",
              "0   985  \n",
              "1   801  \n",
              "2  1349  \n",
              "3  1562  \n",
              "4  1600  "
            ]
          },
          "execution_count": 2,
          "metadata": {},
          "output_type": "execute_result"
        }
      ],
      "source": [
        "bike_sharing = pd.read_csv(\"https://raw.githubusercontent.com/afrizalrizqi/Bike-Sharing/main/data/day.csv\")\n",
        "bike_sharing.head()"
      ]
    },
    {
      "cell_type": "markdown",
      "metadata": {
        "id": "BvZAfrSH9F2U"
      },
      "source": [
        "### Assessing Data"
      ]
    },
    {
      "cell_type": "code",
      "execution_count": 3,
      "metadata": {
        "colab": {
          "base_uri": "https://localhost:8080/"
        },
        "id": "fx7PaLsV9G8M",
        "outputId": "2fdf167b-44f1-465f-c765-0b425ac354fb"
      },
      "outputs": [
        {
          "name": "stdout",
          "output_type": "stream",
          "text": [
            "<class 'pandas.core.frame.DataFrame'>\n",
            "RangeIndex: 731 entries, 0 to 730\n",
            "Data columns (total 16 columns):\n",
            " #   Column      Non-Null Count  Dtype  \n",
            "---  ------      --------------  -----  \n",
            " 0   instant     731 non-null    int64  \n",
            " 1   dteday      731 non-null    object \n",
            " 2   season      731 non-null    int64  \n",
            " 3   yr          731 non-null    int64  \n",
            " 4   mnth        731 non-null    int64  \n",
            " 5   holiday     731 non-null    int64  \n",
            " 6   weekday     731 non-null    int64  \n",
            " 7   workingday  731 non-null    int64  \n",
            " 8   weathersit  731 non-null    int64  \n",
            " 9   temp        731 non-null    float64\n",
            " 10  atemp       731 non-null    float64\n",
            " 11  hum         731 non-null    float64\n",
            " 12  windspeed   731 non-null    float64\n",
            " 13  casual      731 non-null    int64  \n",
            " 14  registered  731 non-null    int64  \n",
            " 15  cnt         731 non-null    int64  \n",
            "dtypes: float64(4), int64(11), object(1)\n",
            "memory usage: 91.5+ KB\n"
          ]
        }
      ],
      "source": [
        "bike_sharing.info()"
      ]
    },
    {
      "cell_type": "code",
      "execution_count": 4,
      "metadata": {
        "colab": {
          "base_uri": "https://localhost:8080/"
        },
        "id": "gw9yHIog6mHG",
        "outputId": "b8898a1a-580a-46b0-fc69-4e018011fa68"
      },
      "outputs": [
        {
          "data": {
            "text/plain": [
              "0"
            ]
          },
          "execution_count": 4,
          "metadata": {},
          "output_type": "execute_result"
        }
      ],
      "source": [
        "bike_sharing.duplicated().sum()"
      ]
    },
    {
      "cell_type": "markdown",
      "metadata": {
        "id": "S49SM5g36qel"
      },
      "source": [
        "Membuat ringkasan parameter"
      ]
    },
    {
      "cell_type": "code",
      "execution_count": 5,
      "metadata": {
        "colab": {
          "base_uri": "https://localhost:8080/",
          "height": 320
        },
        "id": "cQZxKkLz6pP9",
        "outputId": "bc3357b0-91c1-4964-f12c-66b8e70ab66d"
      },
      "outputs": [
        {
          "data": {
            "text/html": [
              "<div>\n",
              "<style scoped>\n",
              "    .dataframe tbody tr th:only-of-type {\n",
              "        vertical-align: middle;\n",
              "    }\n",
              "\n",
              "    .dataframe tbody tr th {\n",
              "        vertical-align: top;\n",
              "    }\n",
              "\n",
              "    .dataframe thead th {\n",
              "        text-align: right;\n",
              "    }\n",
              "</style>\n",
              "<table border=\"1\" class=\"dataframe\">\n",
              "  <thead>\n",
              "    <tr style=\"text-align: right;\">\n",
              "      <th></th>\n",
              "      <th>instant</th>\n",
              "      <th>season</th>\n",
              "      <th>yr</th>\n",
              "      <th>mnth</th>\n",
              "      <th>holiday</th>\n",
              "      <th>weekday</th>\n",
              "      <th>workingday</th>\n",
              "      <th>weathersit</th>\n",
              "      <th>temp</th>\n",
              "      <th>atemp</th>\n",
              "      <th>hum</th>\n",
              "      <th>windspeed</th>\n",
              "      <th>casual</th>\n",
              "      <th>registered</th>\n",
              "      <th>cnt</th>\n",
              "    </tr>\n",
              "  </thead>\n",
              "  <tbody>\n",
              "    <tr>\n",
              "      <th>count</th>\n",
              "      <td>731.000000</td>\n",
              "      <td>731.000000</td>\n",
              "      <td>731.000000</td>\n",
              "      <td>731.000000</td>\n",
              "      <td>731.000000</td>\n",
              "      <td>731.000000</td>\n",
              "      <td>731.000000</td>\n",
              "      <td>731.000000</td>\n",
              "      <td>731.000000</td>\n",
              "      <td>731.000000</td>\n",
              "      <td>731.000000</td>\n",
              "      <td>731.000000</td>\n",
              "      <td>731.000000</td>\n",
              "      <td>731.000000</td>\n",
              "      <td>731.000000</td>\n",
              "    </tr>\n",
              "    <tr>\n",
              "      <th>mean</th>\n",
              "      <td>366.000000</td>\n",
              "      <td>2.496580</td>\n",
              "      <td>0.500684</td>\n",
              "      <td>6.519836</td>\n",
              "      <td>0.028728</td>\n",
              "      <td>2.997264</td>\n",
              "      <td>0.683995</td>\n",
              "      <td>1.395349</td>\n",
              "      <td>0.495385</td>\n",
              "      <td>0.474354</td>\n",
              "      <td>0.627894</td>\n",
              "      <td>0.190486</td>\n",
              "      <td>848.176471</td>\n",
              "      <td>3656.172367</td>\n",
              "      <td>4504.348837</td>\n",
              "    </tr>\n",
              "    <tr>\n",
              "      <th>std</th>\n",
              "      <td>211.165812</td>\n",
              "      <td>1.110807</td>\n",
              "      <td>0.500342</td>\n",
              "      <td>3.451913</td>\n",
              "      <td>0.167155</td>\n",
              "      <td>2.004787</td>\n",
              "      <td>0.465233</td>\n",
              "      <td>0.544894</td>\n",
              "      <td>0.183051</td>\n",
              "      <td>0.162961</td>\n",
              "      <td>0.142429</td>\n",
              "      <td>0.077498</td>\n",
              "      <td>686.622488</td>\n",
              "      <td>1560.256377</td>\n",
              "      <td>1937.211452</td>\n",
              "    </tr>\n",
              "    <tr>\n",
              "      <th>min</th>\n",
              "      <td>1.000000</td>\n",
              "      <td>1.000000</td>\n",
              "      <td>0.000000</td>\n",
              "      <td>1.000000</td>\n",
              "      <td>0.000000</td>\n",
              "      <td>0.000000</td>\n",
              "      <td>0.000000</td>\n",
              "      <td>1.000000</td>\n",
              "      <td>0.059130</td>\n",
              "      <td>0.079070</td>\n",
              "      <td>0.000000</td>\n",
              "      <td>0.022392</td>\n",
              "      <td>2.000000</td>\n",
              "      <td>20.000000</td>\n",
              "      <td>22.000000</td>\n",
              "    </tr>\n",
              "    <tr>\n",
              "      <th>25%</th>\n",
              "      <td>183.500000</td>\n",
              "      <td>2.000000</td>\n",
              "      <td>0.000000</td>\n",
              "      <td>4.000000</td>\n",
              "      <td>0.000000</td>\n",
              "      <td>1.000000</td>\n",
              "      <td>0.000000</td>\n",
              "      <td>1.000000</td>\n",
              "      <td>0.337083</td>\n",
              "      <td>0.337842</td>\n",
              "      <td>0.520000</td>\n",
              "      <td>0.134950</td>\n",
              "      <td>315.500000</td>\n",
              "      <td>2497.000000</td>\n",
              "      <td>3152.000000</td>\n",
              "    </tr>\n",
              "    <tr>\n",
              "      <th>50%</th>\n",
              "      <td>366.000000</td>\n",
              "      <td>3.000000</td>\n",
              "      <td>1.000000</td>\n",
              "      <td>7.000000</td>\n",
              "      <td>0.000000</td>\n",
              "      <td>3.000000</td>\n",
              "      <td>1.000000</td>\n",
              "      <td>1.000000</td>\n",
              "      <td>0.498333</td>\n",
              "      <td>0.486733</td>\n",
              "      <td>0.626667</td>\n",
              "      <td>0.180975</td>\n",
              "      <td>713.000000</td>\n",
              "      <td>3662.000000</td>\n",
              "      <td>4548.000000</td>\n",
              "    </tr>\n",
              "    <tr>\n",
              "      <th>75%</th>\n",
              "      <td>548.500000</td>\n",
              "      <td>3.000000</td>\n",
              "      <td>1.000000</td>\n",
              "      <td>10.000000</td>\n",
              "      <td>0.000000</td>\n",
              "      <td>5.000000</td>\n",
              "      <td>1.000000</td>\n",
              "      <td>2.000000</td>\n",
              "      <td>0.655417</td>\n",
              "      <td>0.608602</td>\n",
              "      <td>0.730209</td>\n",
              "      <td>0.233214</td>\n",
              "      <td>1096.000000</td>\n",
              "      <td>4776.500000</td>\n",
              "      <td>5956.000000</td>\n",
              "    </tr>\n",
              "    <tr>\n",
              "      <th>max</th>\n",
              "      <td>731.000000</td>\n",
              "      <td>4.000000</td>\n",
              "      <td>1.000000</td>\n",
              "      <td>12.000000</td>\n",
              "      <td>1.000000</td>\n",
              "      <td>6.000000</td>\n",
              "      <td>1.000000</td>\n",
              "      <td>3.000000</td>\n",
              "      <td>0.861667</td>\n",
              "      <td>0.840896</td>\n",
              "      <td>0.972500</td>\n",
              "      <td>0.507463</td>\n",
              "      <td>3410.000000</td>\n",
              "      <td>6946.000000</td>\n",
              "      <td>8714.000000</td>\n",
              "    </tr>\n",
              "  </tbody>\n",
              "</table>\n",
              "</div>"
            ],
            "text/plain": [
              "          instant      season          yr        mnth     holiday     weekday  \\\n",
              "count  731.000000  731.000000  731.000000  731.000000  731.000000  731.000000   \n",
              "mean   366.000000    2.496580    0.500684    6.519836    0.028728    2.997264   \n",
              "std    211.165812    1.110807    0.500342    3.451913    0.167155    2.004787   \n",
              "min      1.000000    1.000000    0.000000    1.000000    0.000000    0.000000   \n",
              "25%    183.500000    2.000000    0.000000    4.000000    0.000000    1.000000   \n",
              "50%    366.000000    3.000000    1.000000    7.000000    0.000000    3.000000   \n",
              "75%    548.500000    3.000000    1.000000   10.000000    0.000000    5.000000   \n",
              "max    731.000000    4.000000    1.000000   12.000000    1.000000    6.000000   \n",
              "\n",
              "       workingday  weathersit        temp       atemp         hum   windspeed  \\\n",
              "count  731.000000  731.000000  731.000000  731.000000  731.000000  731.000000   \n",
              "mean     0.683995    1.395349    0.495385    0.474354    0.627894    0.190486   \n",
              "std      0.465233    0.544894    0.183051    0.162961    0.142429    0.077498   \n",
              "min      0.000000    1.000000    0.059130    0.079070    0.000000    0.022392   \n",
              "25%      0.000000    1.000000    0.337083    0.337842    0.520000    0.134950   \n",
              "50%      1.000000    1.000000    0.498333    0.486733    0.626667    0.180975   \n",
              "75%      1.000000    2.000000    0.655417    0.608602    0.730209    0.233214   \n",
              "max      1.000000    3.000000    0.861667    0.840896    0.972500    0.507463   \n",
              "\n",
              "            casual   registered          cnt  \n",
              "count   731.000000   731.000000   731.000000  \n",
              "mean    848.176471  3656.172367  4504.348837  \n",
              "std     686.622488  1560.256377  1937.211452  \n",
              "min       2.000000    20.000000    22.000000  \n",
              "25%     315.500000  2497.000000  3152.000000  \n",
              "50%     713.000000  3662.000000  4548.000000  \n",
              "75%    1096.000000  4776.500000  5956.000000  \n",
              "max    3410.000000  6946.000000  8714.000000  "
            ]
          },
          "execution_count": 5,
          "metadata": {},
          "output_type": "execute_result"
        }
      ],
      "source": [
        "bike_sharing.describe()"
      ]
    },
    {
      "cell_type": "markdown",
      "metadata": {
        "id": "Uz5dgcJm9HW5"
      },
      "source": [
        "### Cleaning Data"
      ]
    },
    {
      "cell_type": "markdown",
      "metadata": {
        "id": "Dfdgb2VR8Ocy"
      },
      "source": [
        "terdapat kesalahan data pada tipe data dteday"
      ]
    },
    {
      "cell_type": "code",
      "execution_count": 6,
      "metadata": {
        "colab": {
          "base_uri": "https://localhost:8080/"
        },
        "id": "CCszTdXD9Ivf",
        "outputId": "b16739c3-5fb3-42ee-dfc3-17c4f394d591"
      },
      "outputs": [
        {
          "name": "stdout",
          "output_type": "stream",
          "text": [
            "<class 'pandas.core.frame.DataFrame'>\n",
            "RangeIndex: 731 entries, 0 to 730\n",
            "Data columns (total 16 columns):\n",
            " #   Column      Non-Null Count  Dtype         \n",
            "---  ------      --------------  -----         \n",
            " 0   instant     731 non-null    int64         \n",
            " 1   dteday      731 non-null    datetime64[ns]\n",
            " 2   season      731 non-null    int64         \n",
            " 3   yr          731 non-null    int64         \n",
            " 4   mnth        731 non-null    int64         \n",
            " 5   holiday     731 non-null    int64         \n",
            " 6   weekday     731 non-null    int64         \n",
            " 7   workingday  731 non-null    int64         \n",
            " 8   weathersit  731 non-null    int64         \n",
            " 9   temp        731 non-null    float64       \n",
            " 10  atemp       731 non-null    float64       \n",
            " 11  hum         731 non-null    float64       \n",
            " 12  windspeed   731 non-null    float64       \n",
            " 13  casual      731 non-null    int64         \n",
            " 14  registered  731 non-null    int64         \n",
            " 15  cnt         731 non-null    int64         \n",
            "dtypes: datetime64[ns](1), float64(4), int64(11)\n",
            "memory usage: 91.5 KB\n"
          ]
        }
      ],
      "source": [
        "datetime_columns = [\"dteday\"]\n",
        "\n",
        "for column in datetime_columns:\n",
        "  bike_sharing[column] = pd.to_datetime(bike_sharing[column])\n",
        "\n",
        "bike_sharing.info()"
      ]
    },
    {
      "cell_type": "markdown",
      "metadata": {
        "id": "EyPJaCDm9KFb"
      },
      "source": [
        "## Exploratory Data Analysis (EDA)"
      ]
    },
    {
      "cell_type": "markdown",
      "metadata": {
        "id": "hxgJ6qd69Mce"
      },
      "source": [
        "### Explore ..."
      ]
    },
    {
      "cell_type": "markdown",
      "metadata": {
        "id": "uJoEF8Pk9Ljg"
      },
      "source": [
        "- pertanyaan 1 : Pada cuaca apa yang paling banyak dan paling sedikit pengguna?\n",
        "- pertanyaan 2 : Bagaimana perbedaan penggunaan sepeda antara pengguna terdaftar dan pengguna biasa?"
      ]
    },
    {
      "cell_type": "code",
      "execution_count": 7,
      "metadata": {
        "id": "Xo68yguo9LTl"
      },
      "outputs": [],
      "source": [
        "question1 = bike_sharing.groupby(by=\"weathersit\").dteday.nunique().sort_values(ascending=False)"
      ]
    },
    {
      "cell_type": "code",
      "execution_count": 8,
      "metadata": {
        "colab": {
          "base_uri": "https://localhost:8080/"
        },
        "id": "zSfzeSBV977u",
        "outputId": "e943aee6-eb2e-44e8-c5d1-f84e0a8bc692"
      },
      "outputs": [
        {
          "name": "stdout",
          "output_type": "stream",
          "text": [
            "Jumlah pengguna terdaftar :  2672662\n",
            "Jumlah pengguna biasa :  620017\n",
            "Registered users lebih banyak\n"
          ]
        }
      ],
      "source": [
        "registered_users = bike_sharing[bike_sharing[\"registered\"] > 0]\n",
        "casual_users = bike_sharing[bike_sharing[\"casual\"] > 0]\n",
        "\n",
        "registered_users_count = bike_sharing[\"registered\"].sum()\n",
        "casual_users_count = bike_sharing[\"casual\"].sum()\n",
        "\n",
        "print(\"Jumlah pengguna terdaftar : \", registered_users_count)\n",
        "print(\"Jumlah pengguna biasa : \", casual_users_count)\n",
        "\n",
        "if registered_users_count > casual_users_count:\n",
        "  print(\"Registered users lebih banyak\")\n",
        "else:\n",
        "  print(\"Casual users lebih banyak\")"
      ]
    },
    {
      "cell_type": "markdown",
      "metadata": {
        "id": "SCNmtOLp9OKB"
      },
      "source": [
        "## Visualization & Explanatory Analysis"
      ]
    },
    {
      "cell_type": "markdown",
      "metadata": {
        "id": "SG59_Fbj9Qr6"
      },
      "source": [
        "### Pertanyaan 1:"
      ]
    },
    {
      "cell_type": "code",
      "execution_count": 9,
      "metadata": {
        "colab": {
          "base_uri": "https://localhost:8080/",
          "height": 430
        },
        "id": "dtRoaxqd9PdU",
        "outputId": "69920503-c0cd-4a2a-becd-e66af85ad9b2"
      },
      "outputs": [
        {
          "data": {
            "image/png": "[encoded data removed]",
            "text/plain": [
              "<Figure size 640x480 with 1 Axes>"
            ]
          },
          "metadata": {},
          "output_type": "display_data"
        }
      ],
      "source": [
        "question1\n",
        "\n",
        "plt.bar(['1','2','3'], question1)\n",
        "plt.show()"
      ]
    },
    {
      "cell_type": "markdown",
      "metadata": {
        "id": "F2Bo_ypQ9RfH"
      },
      "source": [
        "### Pertanyaan 2:"
      ]
    },
    {
      "cell_type": "code",
      "execution_count": 10,
      "metadata": {
        "colab": {
          "base_uri": "https://localhost:8080/",
          "height": 539
        },
        "id": "jkO5kTJq9S1Y",
        "outputId": "cd18c908-77dd-4b30-b87a-fe8a52e44dfa"
      },
      "outputs": [
        {
          "name": "stdout",
          "output_type": "stream",
          "text": [
            "registered    2672662\n",
            "casual         620017\n",
            "dtype: int64\n"
          ]
        },
        {
          "data": {
            "image/png": "[encoded data removed]",
            "text/plain": [
              "<Figure size 640x480 with 1 Axes>"
            ]
          },
          "metadata": {},
          "output_type": "display_data"
        }
      ],
      "source": [
        "# Mengambil data\n",
        "data = bike_sharing[[\"registered\", \"casual\"]]\n",
        "\n",
        "\n",
        "# Mengurutkan data berdasarkan kolom \"registered\"\n",
        "data = data.sort_values(by=\"registered\", ascending=False)\n",
        "data = data.sum()\n",
        "\n",
        "plt.title(\"Perbandingan antara Registered Users dengan Casual Users\")\n",
        "print(data)\n",
        "plt.bar([\"registered\",\"casual\"], data)\n",
        "plt.xlabel(\"Jumlah pengguna terdaftar\")\n",
        "plt.ylabel(\"Jumlah pengguna kasual\")\n",
        "\n",
        "# Menampilkan plot\n",
        "plt.show()\n"
      ]
    },
    {
      "cell_type": "markdown",
      "metadata": {
        "id": "J2CnXYGT9Tc2"
      },
      "source": [
        "## Conclusion"
      ]
    },
    {
      "cell_type": "markdown",
      "metadata": {
        "id": "f73FBkLw9V8C"
      },
      "source": [
        "- Conclution pertanyaan 1\n",
        "\n",
        "- Pada pertanyaan pertama yaitu pada cuaca apa yang paling banyak dan paling sedikit pengguna? Berdasarkan hasil analisis yaitu terdapat 4 kategori cuaca yang dilalui dan yang paling banyak pengguna yaitu ketika kategori 1 atau Clear, Few clouds, Partly cloud dan yang paling sedikit pengguna yaitu kategori 4 atau Heavy rain + Ice Pallets + Thunderstrom + Mist, Snow + Fog karena berdasarkan data tidak ada pengguna ketika datang cuaca tersebut maka 0 pengguna sehingga dapat disimpulkan bahwa pengguna paling sedikit yaitu pada cuaca 4.\n",
        "\n",
        "\n"
      ]
    },
    {
      "cell_type": "markdown",
      "metadata": {
        "id": "fonJyHqhJhBV"
      },
      "source": [
        "- Conclution pertanyaan 2\n",
        "- Konklusi pada pertanyaan kedua yaitu perbedaan antara registered users dengan casual users sangat drastis perbedaannya yaitu registered users sebanyak 2672662 users sedangkan casual users sebanyak 620017 sehingga dapat disimpulkan pengguna yang lebih banyak menggunakan yaitu registered users atau pengguna yang telah terdaftar."
      ]
    }
  ],
  "metadata": {
    "colab": {
      "provenance": []
    },
    "kernelspec": {
      "display_name": "Python 3",
      "name": "python3"
    },
    "language_info": {
      "codemirror_mode": {
        "name": "ipython",
        "version": 3
      },
      "file_extension": ".py",
      "mimetype": "text/x-python",
      "name": "python",
      "nbconvert_exporter": "python",
      "pygments_lexer": "ipython3",
      "version": "3.7.6"
    }
  },
  "nbformat": 4,
  "nbformat_minor": 0
}
